{
 "cells": [
  {
   "cell_type": "code",
   "execution_count": null,
   "metadata": {},
   "outputs": [],
   "source": [
    "from bs4 import BeautifulSoup\n",
    "import pandas as pd\n",
    "import numpy as np\n",
    "file = open(\"newflipkart.html\",\"r\",encoding=\"UTF-8\")\n",
    "data = file.read()\n",
    "file.close()\n",
    "soup = BeautifulSoup(data)\n",
    "Name, Memory ,color ,Reviews,Old_price,New_price,discount =[],[],[],[],[],[],[]\n",
    "\n",
    "m= soup.find(\"div\",class_=\"DOjaWF gdgoEp\")\n",
    "\n",
    "mobiles= m.findAll(\"div\", class_=\"tUxRFH\")\n",
    "\n",
    "for i in range(0,len(mobiles)):\n",
    "    Name.append(mobiles[i].find(\"div\", class_=\"KzDlHZ\").text)\n",
    "    Memory.append(mobiles[i].find(\"li\", class_=\"J+igdf\").text)\n",
    "    s= mobiles[i].find(\"div\", class_=\"KzDlHZ\").text\n",
    "    name = s.split(\"(\",1)\n",
    "    c = name[1].strip(\")\")\n",
    "    \n",
    "    color.append(c.split(\",\")[0])\n",
    "    # Reviews.append(mobiles[i].find(\"\",class_=\"\").text)\n",
    "    Old_price.append(mobiles[i].find(\"div\",class_=\"yRaY8j ZYYwLA\").text)\n",
    "    New_price.append(mobiles[i].find(\"div\",class_=\"Nx9bqj _4b5DiR\").text)\n",
    "    discount.append(mobiles[i].find(\"div\",class_=\"UkUFwK\").text)\n",
    "color"
   ]
  },
  {
   "cell_type": "code",
   "execution_count": null,
   "metadata": {},
   "outputs": [],
   "source": [
    "import pandas as pd\n",
    "import numpy as np\n",
    "\n",
    "from bs4 import BeautifulSoup\n",
    "import requests,json\n",
    "\n",
    "with open('newflipkart.html','r',encoding='utf-8') as f:\n",
    "    html_content = f.read()\n",
    "    soup = BeautifulSoup(html_content)\n",
    "#     print(soup.prettify())\n",
    "    soup = soup.findAll('div',class_='tUxRFH')\n",
    "# print(soup)\n",
    "\n",
    "d={'Name':[] ,'Memory':[],'Color':[],'Stars':[],'Reviews':[],'Old_price':[],'New_price':[],'Discount':[]}\n",
    "for i in soup:\n",
    "    d['Name'].append(i.find('div',class_='KzDlHZ').text.split('(')[0])\n",
    "    d['Memory'].append(i.find('div',class_='KzDlHZ').text.split('(')[1].split(')')[0].split(',')[1])\n",
    "    d['Color'].append(i.find('div',class_='KzDlHZ').text.split('(')[1].split(')')[0].split(',')[0])\n",
    "    d['Stars'].append(i.find('div',class_='XQDdHH').text)\n",
    "    d['Reviews'].append(i.find('span',class_='Wphh3N').text.split('&')[-1].strip().split(' ')[0])\n",
    "    d['Old_price'].append(i.find('div',class_='yRaY8j ZYYwLA').text[1:].replace(',',' '))\n",
    "    d['New_price'].append(i.find('div',class_='Nx9bqj _4b5DiR').text[1:].replace(',',' '))\n",
    "    d['Discount'].append(i.find('div',class_='UkUFwK').text.split(' ')[0])\n",
    "        \n",
    "# print(d)\n",
    "df=pd.DataFrame(d)\n",
    "df"
   ]
  },
  {
   "cell_type": "code",
   "execution_count": null,
   "metadata": {},
   "outputs": [],
   "source": []
  }
 ],
 "metadata": {
  "kernelspec": {
   "display_name": "Python 3",
   "language": "python",
   "name": "python3"
  },
  "language_info": {
   "codemirror_mode": {
    "name": "ipython",
    "version": 3
   },
   "file_extension": ".py",
   "mimetype": "text/x-python",
   "name": "python",
   "nbconvert_exporter": "python",
   "pygments_lexer": "ipython3",
   "version": "3.8.5"
  }
 },
 "nbformat": 4,
 "nbformat_minor": 4
}
