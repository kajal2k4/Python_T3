{
 "cells": [
  {
   "cell_type": "code",
   "execution_count": 1,
   "metadata": {},
   "outputs": [],
   "source": [
    "import socket"
   ]
  },
  {
   "cell_type": "code",
   "execution_count": 2,
   "metadata": {},
   "outputs": [
    {
     "name": "stdout",
     "output_type": "stream",
     "text": [
      "406-1-33\n"
     ]
    },
    {
     "data": {
      "text/plain": [
       "'192.168.104.33'"
      ]
     },
     "execution_count": 2,
     "metadata": {},
     "output_type": "execute_result"
    }
   ],
   "source": [
    "print(socket.gethostname())\n",
    "ip_address=socket.gethostbyname(socket.gethostname())\n",
    "ip_address"
   ]
  },
  {
   "cell_type": "code",
   "execution_count": 3,
   "metadata": {},
   "outputs": [
    {
     "name": "stdout",
     "output_type": "stream",
     "text": [
      "Overwriting taskServer.py\n"
     ]
    }
   ],
   "source": [
    "%%writefile taskServer.py\n",
    "#SERVER\n",
    "import socket\n",
    "host=socket.gethostname()\n",
    "port=5000\n",
    "server_socket=socket.socket()\n",
    "server_socket.bind((host,port))\n",
    "server_socket.listen()\n",
    "conn,address=server_socket.accept()\n",
    "print(\"Connection from :\",str(address))\n",
    "while True:\n",
    "    data=conn.recv(1024).decode()\n",
    "    s=s.split(\" \")\n",
    "    ans=\"\"\n",
    "    for i in s:\n",
    "        if int(i)%2==1:\n",
    "            ans=ans+int(i)**3+\" \" \n",
    "    if not data:\n",
    "        break\n",
    "    print(\"from connected user:\",str(data))\n",
    "    conn.send(ans.encode())\n",
    "conn.close()\n"
   ]
  },
  {
   "cell_type": "code",
   "execution_count": 4,
   "metadata": {},
   "outputs": [
    {
     "name": "stdout",
     "output_type": "stream",
     "text": [
      "Overwriting taskClient.py\n"
     ]
    }
   ],
   "source": [
    "%%writefile taskClient.py\n",
    "#CLIENT\n",
    "import socket\n",
    "host=socket.gethostname()\n",
    "port=5000\n",
    "client_socket=socket.socket()\n",
    "client_socket.connect((host,port))\n",
    "message=input(\"->\")\n",
    "while message.lower().strip() != 'bye':\n",
    "    client_socket.send(message.encode())\n",
    "    data=client_socket.recv(1024).decode()\n",
    "    print(\"Received from server:\",data)\n",
    "    message=input(\"->\")\n",
    "\n",
    "client_socket.close()"
   ]
  },
  {
   "cell_type": "code",
   "execution_count": 5,
   "metadata": {},
   "outputs": [
    {
     "name": "stdout",
     "output_type": "stream",
     "text": [
      "Writing server.py\n"
     ]
    }
   ],
   "source": [
    "%%writefile server.py\n",
    "import socket\n",
    "host='localhost'\n",
    "port=65432\n",
    "Buffer_size=1024\n",
    "with socket.socket() as s:\n",
    "    s.bind((host,port))\n",
    "    s.listen()\n",
    "    conn,addr=s.accept()\n",
    "    with conn:\n",
    "        print('connect by',addr)\n",
    "        file_data=b\"\"\n",
    "        while True:\n",
    "            data=conn.recv(Buffer.size)\n",
    "            if not data:\n",
    "                break\n",
    "            file_data=data\n",
    "        with open('recv.ipynb','wb') as f:\n",
    "            f.write(file_data)\n",
    "        print('file recived')"
   ]
  },
  {
   "cell_type": "code",
   "execution_count": 7,
   "metadata": {},
   "outputs": [
    {
     "name": "stdout",
     "output_type": "stream",
     "text": [
      "Writing client.py\n"
     ]
    }
   ],
   "source": [
    " \n",
    "%%writefile client.py\n",
    "import socket\n",
    "\n",
    "host = \"localhost\"\n",
    "port = 65432\n",
    "Buffer_size = 1024\n",
    "with Socket.socket() as s:\n",
    "    s.connect((host,port))\n",
    "    with open('Lec-1.ipynb','rb') as f:\n",
    "        while True:\n",
    "            data = f.read(Buffer_size)\n",
    "            if not data:\n",
    "                break\n",
    "            s.sendall(data)\n",
    "        print('file send')"
   ]
  },
  {
   "cell_type": "code",
   "execution_count": null,
   "metadata": {},
   "outputs": [],
   "source": [
    "import socket\n",
    "host = 'localhost'\n",
    "port = 65432\n",
    "buffer_size = 1024\n",
    "\n",
    "with socket.socket() as s:\n",
    "    s.bind((host,port))\n",
    "    s.listen()\n",
    "    conn,addr = s.accpet()\n",
    "    while conn:\n",
    "        print(\"Connect by\",addr)\n",
    "        file_data = b\" \"\n",
    "        while True:\n",
    "            data = conn.recv(buffer_size)\n",
    "            if not data:\n",
    "                break\n",
    "            file_data+=data\n",
    "        with open('recv.ipynb','wb') as f:\n",
    "            f.write(file_data)\n",
    "        print(\"file received\")"
   ]
  },
  {
   "cell_type": "code",
   "execution_count": null,
   "metadata": {},
   "outputs": [],
   "source": []
  }
 ],
 "metadata": {
  "kernelspec": {
   "display_name": "Python 3",
   "language": "python",
   "name": "python3"
  },
  "language_info": {
   "codemirror_mode": {
    "name": "ipython",
    "version": 3
   },
   "file_extension": ".py",
   "mimetype": "text/x-python",
   "name": "python",
   "nbconvert_exporter": "python",
   "pygments_lexer": "ipython3",
   "version": "3.8.5"
  }
 },
 "nbformat": 4,
 "nbformat_minor": 4
}
