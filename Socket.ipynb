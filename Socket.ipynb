{
 "cells": [
  {
   "cell_type": "code",
   "execution_count": 1,
   "metadata": {},
   "outputs": [],
   "source": [
    "import socket"
   ]
  },
  {
   "cell_type": "code",
   "execution_count": 2,
   "metadata": {},
   "outputs": [
    {
     "name": "stdout",
     "output_type": "stream",
     "text": [
      "406-1-33\n"
     ]
    },
    {
     "data": {
      "text/plain": [
       "'192.168.104.33'"
      ]
     },
     "execution_count": 2,
     "metadata": {},
     "output_type": "execute_result"
    }
   ],
   "source": [
    "\n",
    "print(socket.gethostname())\n",
    "ip_address=socket.gethostbyname(socket.gethostname())\n",
    "ip_address"
   ]
  },
  {
   "cell_type": "code",
   "execution_count": 3,
   "metadata": {},
   "outputs": [
    {
     "name": "stdout",
     "output_type": "stream",
     "text": [
      "Overwriting tcpServer.py\n"
     ]
    }
   ],
   "source": [
    "%%writefile tcpServer.py\n",
    "import socket\n",
    "host = socket.gethostname()\n",
    "port = 5000\n",
    "server_socket = socket.socket()\n",
    "server_socket.bind((host,port))\n",
    "server_socket.listen()\n",
    "conn,address = server_socket.accept()\n",
    "print(\"Connection from:\"+ str(address))\n",
    "while True:\n",
    "    data = conn.recv(1024).decode()\n",
    "    if not data:\n",
    "        break\n",
    "    print(\"from connected user:\"+str(data))\n",
    "    data = input('->')\n",
    "    conn.send(data.encode())\n",
    "conn.close()"
   ]
  },
  {
   "cell_type": "code",
   "execution_count": 4,
   "metadata": {},
   "outputs": [
    {
     "name": "stdout",
     "output_type": "stream",
     "text": [
      "Overwriting tcpClient.py\n"
     ]
    }
   ],
   "source": [
    "%%writefile tcpClient.py\n",
    "import socket\n",
    "port = 5000\n",
    "client_socket = socket.socket()\n",
    "client_socket.connect((192.168.104.31,port))\n",
    "message = input('->')\n",
    "while message.lower().strip()!='bye':\n",
    "    client_socket.send(message.encode())\n",
    "    data = client_socket.recv(1024).decode()\n",
    "    print('received from server'+data)\n",
    "    message = input('->')\n",
    "client.socket.close()\n",
    "\n",
    "\n"
   ]
  },
  {
   "cell_type": "code",
   "execution_count": 5,
   "metadata": {},
   "outputs": [
    {
     "name": "stdout",
     "output_type": "stream",
     "text": [
      "Overwriting udpServer1.py\n"
     ]
    }
   ],
   "source": [
    "%%writefile udpServer1.py\n",
    "import socket\n",
    "host = socket.gethostname()\n",
    "port = 5000\n",
    "server_socket = socket.socket(type=socket.SOCK_DGRAM)\n",
    "server_socket.bind((host,port))\n",
    "while True:\n",
    "    print('Waiting for message')\n",
    "    data,addr = server_socket.recvfrom(1024)\n",
    "    print('received'+data.encode(),addr)\n",
    "    data = input('->')\n",
    "    server_socket.sendto(msg.encode(),addr)\n",
    "server_socket.close()"
   ]
  },
  {
   "cell_type": "code",
   "execution_count": 6,
   "metadata": {},
   "outputs": [
    {
     "name": "stdout",
     "output_type": "stream",
     "text": [
      "Overwriting udpClient1.py\n"
     ]
    }
   ],
   "source": [
    "%%writefile udpClient1.py\n",
    "import socket\n",
    "host = socket.gethostname()\n",
    "port = 5000\n",
    "client_socket = socket.socket(type=socket.SOCK_DGRAM)\n",
    "ADDR= (host,port)\n",
    "while True:\n",
    "    data = input(\"-send\")\n",
    "    if not data:\n",
    "        break\n",
    "    client_socket.sendto(data.encode(),ADDR)\n",
    "    print('received data')\n",
    "    data,ADDR = client_socket.recvfrom(1024)\n",
    "    if not data:\n",
    "        break\n",
    "    print(\"Recieved\",data.decode())\n",
    "client_socket.close()"
   ]
  },
  {
   "cell_type": "code",
   "execution_count": 7,
   "metadata": {},
   "outputs": [
    {
     "name": "stdout",
     "output_type": "stream",
     "text": [
      "Overwriting tcpServer2.py\n"
     ]
    }
   ],
   "source": [
    "%%writefile tcpServer2.py\n",
    "server=socket()\n",
    "server.bind(('localhost',9000))\n",
    "server.listen()\n",
    "while(1):\n",
    "    (client,add)=server.accept()\n",
    "    rd=client.recv(1028).decode()\n",
    "    print(rd)\n",
    "    data=\"HTTP/1.1 200 OK\\r\\n\"\n",
    "    data+=\"content-type:text/html ; charset=utf-8\\r\\n\"\n",
    "    data+=\"\\r\\n\"\n",
    "    data+=\"<html><body>hello world</body></html>\\r\\n\\r\\n\"\n",
    "    client.send(data.encode())\n",
    "server.close()\n",
    "print(\"http://localhost:9000\")"
   ]
  },
  {
   "cell_type": "code",
   "execution_count": 8,
   "metadata": {},
   "outputs": [
    {
     "name": "stdout",
     "output_type": "stream",
     "text": [
      "Overwriting tcpClient2.py\n"
     ]
    }
   ],
   "source": [
    "%%writefile tcpClient2.py\n",
    "from socket import *\n",
    "client=socket()\n",
    "client.connect(('localhost',9000))\n",
    "request=\"GET/HTTP/1.1\\r\\n\\host:localhost\\r\\n\\r\\n\"\n",
    "client.send(request.encode())\n",
    "response=client.recv(1024).decode()\n",
    "print(response)\n",
    "client.close()\n"
   ]
  },
  {
   "cell_type": "code",
   "execution_count": null,
   "metadata": {},
   "outputs": [],
   "source": []
  },
  {
   "cell_type": "code",
   "execution_count": 9,
   "metadata": {},
   "outputs": [
    {
     "ename": "gaierror",
     "evalue": "[Errno 11001] getaddrinfo failed",
     "output_type": "error",
     "traceback": [
      "\u001b[1;31m---------------------------------------------------------------------------\u001b[0m",
      "\u001b[1;31mgaierror\u001b[0m                                  Traceback (most recent call last)",
      "\u001b[1;32m<ipython-input-9-b01d28eb9c7b>\u001b[0m in \u001b[0;36m<module>\u001b[1;34m\u001b[0m\n\u001b[0;32m      1\u001b[0m \u001b[0mmysock\u001b[0m \u001b[1;33m=\u001b[0m \u001b[0msocket\u001b[0m\u001b[1;33m.\u001b[0m\u001b[0msocket\u001b[0m\u001b[1;33m(\u001b[0m\u001b[1;33m)\u001b[0m\u001b[1;33m\u001b[0m\u001b[1;33m\u001b[0m\u001b[0m\n\u001b[1;32m----> 2\u001b[1;33m \u001b[0mmysock\u001b[0m\u001b[1;33m.\u001b[0m\u001b[0mconnect\u001b[0m\u001b[1;33m(\u001b[0m\u001b[1;33m(\u001b[0m\u001b[1;34m'data.pr4e.org'\u001b[0m\u001b[1;33m,\u001b[0m\u001b[1;36m80\u001b[0m\u001b[1;33m)\u001b[0m\u001b[1;33m)\u001b[0m\u001b[1;33m\u001b[0m\u001b[1;33m\u001b[0m\u001b[0m\n\u001b[0m\u001b[0;32m      3\u001b[0m \u001b[0mcmd\u001b[0m \u001b[1;33m=\u001b[0m \u001b[1;34m\"GET http://data.pr4e.org/romeo.txt HTTP/1.0\\r\\n\\r\\n\"\u001b[0m\u001b[1;33m.\u001b[0m\u001b[0mencode\u001b[0m\u001b[1;33m(\u001b[0m\u001b[1;33m)\u001b[0m\u001b[1;33m\u001b[0m\u001b[1;33m\u001b[0m\u001b[0m\n\u001b[0;32m      4\u001b[0m \u001b[0mmysock\u001b[0m\u001b[1;33m.\u001b[0m\u001b[0msend\u001b[0m\u001b[1;33m(\u001b[0m\u001b[0mcmd\u001b[0m\u001b[1;33m)\u001b[0m\u001b[1;33m\u001b[0m\u001b[1;33m\u001b[0m\u001b[0m\n\u001b[0;32m      5\u001b[0m \u001b[1;32mwhile\u001b[0m \u001b[1;32mTrue\u001b[0m\u001b[1;33m:\u001b[0m\u001b[1;33m\u001b[0m\u001b[1;33m\u001b[0m\u001b[0m\n",
      "\u001b[1;31mgaierror\u001b[0m: [Errno 11001] getaddrinfo failed"
     ]
    }
   ],
   "source": [
    "mysock = socket.socket()\n",
    "mysock.connect(('data.pr4e.org',80))\n",
    "cmd = \"GET http://data.pr4e.org/romeo.txt HTTP/1.0\\r\\n\\r\\n\".encode()\n",
    "mysock.send(cmd)\n",
    "while True:\n",
    "    data = mysock.recv(512)\n",
    "    if len(data)<0:\n",
    "        break\n",
    "    print(data.decode(),end=\"\")\n",
    "mysock.close()"
   ]
  },
  {
   "cell_type": "code",
   "execution_count": null,
   "metadata": {},
   "outputs": [],
   "source": []
  },
  {
   "cell_type": "code",
   "execution_count": null,
   "metadata": {},
   "outputs": [],
   "source": []
  },
  {
   "cell_type": "code",
   "execution_count": null,
   "metadata": {},
   "outputs": [],
   "source": []
  },
  {
   "cell_type": "code",
   "execution_count": null,
   "metadata": {},
   "outputs": [],
   "source": []
  }
 ],
 "metadata": {
  "kernelspec": {
   "display_name": "Python 3",
   "language": "python",
   "name": "python3"
  },
  "language_info": {
   "codemirror_mode": {
    "name": "ipython",
    "version": 3
   },
   "file_extension": ".py",
   "mimetype": "text/x-python",
   "name": "python",
   "nbconvert_exporter": "python",
   "pygments_lexer": "ipython3",
   "version": "3.8.5"
  }
 },
 "nbformat": 4,
 "nbformat_minor": 4
}
